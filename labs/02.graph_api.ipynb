{
 "cells": [
  {
   "cell_type": "markdown",
   "metadata": {},
   "source": [
    "# Facebook Graph API \n",
    "\n",
    "### https://developers.facebook.com/docs/graph-api/\n",
    "\n",
    "### https://developers.facebook.com/tools/explorer\n",
    "\n",
    "1. Criar uma App\n",
    "2. Tools > Graph API Explorer\n"
   ]
  },
  {
   "cell_type": "markdown",
   "metadata": {},
   "source": [
    "# Tokens\n",
    "## https://developers.facebook.com/docs/facebook-login/access-tokens/?locale=pt_BR\n",
    "\n",
    "**User Access Token** - This kind of access token is needed any time the app calls an API to read, modify or write a specific person's Facebook data on their behalf. User access tokens are generally obtained via a login dialog and require a person to permit your app to obtain one.\n",
    "\n",
    "**App Access Token** - This kind of access token is needed to modify and read app settings. It can also be used to publish Open Graph actions. It is generated using a pre-agreed secret between the app and Facebook and is then used during calls that change app-wide settings. You obtain an app access token via a server-to-server call."
   ]
  },
  {
   "cell_type": "markdown",
   "metadata": {},
   "source": [
    "### Get Users Access Tokens"
   ]
  },
  {
   "cell_type": "markdown",
   "metadata": {},
   "source": [
    "### Selecionar Campo \"email\"\n",
    "1. Clicar em Submit. O que acontece?\n",
    "2. Necessário um novo token com novas permissões"
   ]
  },
  {
   "cell_type": "markdown",
   "metadata": {},
   "source": [
    "# Permissions Reference - Facebook Login\n",
    "\n",
    "### https://developers.facebook.com/docs/facebook-login/permissions\n",
    "\n",
    "**User Data**\n",
    "\n",
    "_Default Public Profile Fields_\n",
    "\n",
    "_Does not require App Review._\n",
    "\n",
    "Grants your app access to the default fields of the User object that are a subset of a person's public profile:\n",
    "\n",
    "* id\n",
    "* first_name\n",
    "* last_name\n",
    "* middle_name\n",
    "* name\n",
    "* name_format\n",
    "* picture\n",
    "* short_name"
   ]
  },
  {
   "cell_type": "markdown",
   "metadata": {},
   "source": [
    "# Acesso a user_likes\n",
    "Adicionar os campos \"Music\" and \"Games\""
   ]
  },
  {
   "cell_type": "markdown",
   "metadata": {},
   "source": [
    "# Exercício 1: Listar os seus feeds"
   ]
  },
  {
   "cell_type": "markdown",
   "metadata": {},
   "source": [
    "# Exercício 2: Listar o nome de seus amigos\n",
    "O que aconteceu neste exercício?"
   ]
  },
  {
   "cell_type": "markdown",
   "metadata": {},
   "source": [
    "# Acessando a Graph API utilizando Python\n",
    "\n",
    "https://facebook-sdk.readthedocs.io/en/latest/api.html"
   ]
  },
  {
   "cell_type": "markdown",
   "metadata": {},
   "source": [
    "# Instalando o Facebook SDK"
   ]
  },
  {
   "cell_type": "code",
   "execution_count": null,
   "metadata": {},
   "outputs": [],
   "source": [
    "!pip install facebook-sdk"
   ]
  },
  {
   "cell_type": "markdown",
   "metadata": {},
   "source": [
    "### Get Users Access Tokens\n",
    "Email, Likes, Birthday"
   ]
  },
  {
   "cell_type": "markdown",
   "metadata": {},
   "source": [
    "# Obtendo informações do meu usuário"
   ]
  },
  {
   "cell_type": "code",
   "execution_count": null,
   "metadata": {},
   "outputs": [],
   "source": [
    "!python ../resources/graphapi_python.py"
   ]
  },
  {
   "cell_type": "markdown",
   "metadata": {},
   "source": [
    "# Obtendo o email e aniversário do meu usuário"
   ]
  },
  {
   "cell_type": "code",
   "execution_count": null,
   "metadata": {},
   "outputs": [],
   "source": [
    "!python ../resources/graphapi_python.py"
   ]
  },
  {
   "cell_type": "markdown",
   "metadata": {},
   "source": [
    "# Obtendo amigos"
   ]
  },
  {
   "cell_type": "code",
   "execution_count": null,
   "metadata": {},
   "outputs": [],
   "source": [
    "!python ../resources/graphapi_python.py"
   ]
  },
  {
   "cell_type": "markdown",
   "metadata": {},
   "source": [
    "# Exercício 3: Complete o código abaixo para listar todos os seus Likes"
   ]
  },
  {
   "cell_type": "markdown",
   "metadata": {},
   "source": [
    "``` python\n",
    "import ___________\n",
    "import urllib3\n",
    "import json\n",
    "import pprint\n",
    "\n",
    "__________ = ___________\n",
    "\n",
    "graph_api = facebook.GraphAPI(access_token=token, version=\"3.1\")\n",
    "\n",
    "__________ = ___________\n",
    "\n",
    "my_likes = _____________________\n",
    "pprint.pprint(my_likes)\n",
    "while __________ in my_likes.keys() and 'next' in ____________:\n",
    "    try:\n",
    "        http = urllib3.PoolManager()\n",
    "        my_likes = http.request('GET', my_likes[________][________])\n",
    "        my_likes = json.loads(my_likes.data)\n",
    "        pprint.pprint(my_likes)\n",
    "    except Exception as ex:\n",
    "        pprint.pprint(ex)\n",
    "        break\n",
    "```"
   ]
  },
  {
   "cell_type": "code",
   "execution_count": null,
   "metadata": {},
   "outputs": [],
   "source": [
    "!python ../resources/graphapi_python.py"
   ]
  },
  {
   "cell_type": "code",
   "execution_count": null,
   "metadata": {},
   "outputs": [],
   "source": []
  }
 ],
 "metadata": {
  "kernelspec": {
   "display_name": "Python 3",
   "language": "python",
   "name": "python3"
  },
  "language_info": {
   "codemirror_mode": {
    "name": "ipython",
    "version": 3
   },
   "file_extension": ".py",
   "mimetype": "text/x-python",
   "name": "python",
   "nbconvert_exporter": "python",
   "pygments_lexer": "ipython3",
   "version": "3.7.3"
  }
 },
 "nbformat": 4,
 "nbformat_minor": 2
}
