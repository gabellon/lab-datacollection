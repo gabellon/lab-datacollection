{
 "cells": [
  {
   "cell_type": "markdown",
   "metadata": {},
   "source": [
    "# Instalando o scrapy"
   ]
  },
  {
   "cell_type": "code",
   "execution_count": null,
   "metadata": {},
   "outputs": [],
   "source": [
    "!pip install scrapy"
   ]
  },
  {
   "cell_type": "markdown",
   "metadata": {},
   "source": [
    "# Criando um projeto scrapy"
   ]
  },
  {
   "cell_type": "code",
   "execution_count": null,
   "metadata": {},
   "outputs": [],
   "source": [
    "!scrapy startproject helloscrapy"
   ]
  },
  {
   "cell_type": "code",
   "execution_count": null,
   "metadata": {},
   "outputs": [],
   "source": [
    "!ls"
   ]
  },
  {
   "cell_type": "code",
   "execution_count": null,
   "metadata": {},
   "outputs": [],
   "source": [
    "!ls helloscrapy"
   ]
  },
  {
   "cell_type": "code",
   "execution_count": null,
   "metadata": {},
   "outputs": [],
   "source": [
    "!ls helloscrapy/helloscrapy"
   ]
  },
  {
   "cell_type": "code",
   "execution_count": null,
   "metadata": {},
   "outputs": [],
   "source": [
    "!ls helloscrapy/helloscrapy/spiders"
   ]
  },
  {
   "cell_type": "markdown",
   "metadata": {},
   "source": [
    "# Como extrair informações do site abaixo?\n",
    "http://quotes.toscrape.com/"
   ]
  },
  {
   "cell_type": "markdown",
   "metadata": {},
   "source": [
    "# Criando um novo Spider"
   ]
  },
  {
   "cell_type": "code",
   "execution_count": null,
   "metadata": {},
   "outputs": [],
   "source": [
    "!cd helloscrapy/helloscrapy/spiders && touch first_spider.py"
   ]
  },
  {
   "cell_type": "markdown",
   "metadata": {},
   "source": [
    "# Executando o spider"
   ]
  },
  {
   "cell_type": "code",
   "execution_count": null,
   "metadata": {},
   "outputs": [],
   "source": [
    "!cd helloscrapy && scrapy crawl spiderone"
   ]
  },
  {
   "cell_type": "markdown",
   "metadata": {},
   "source": [
    "# Como extrair informações do site abaixo?\n",
    "https://www.americanas.com.br/"
   ]
  },
  {
   "cell_type": "markdown",
   "metadata": {},
   "source": [
    "# Executando o spider"
   ]
  },
  {
   "cell_type": "code",
   "execution_count": null,
   "metadata": {},
   "outputs": [],
   "source": [
    "!cd helloscrapy && scrapy crawl spiderone"
   ]
  },
  {
   "cell_type": "markdown",
   "metadata": {},
   "source": [
    "# Arquivo robots.txt\n",
    "https://www.amazon.com.br/robots.txt\n",
    "\n",
    "https://www.americanas.com.br/robots.txt"
   ]
  },
  {
   "cell_type": "markdown",
   "metadata": {},
   "source": [
    "# Exercício 1: Coletar página inicial de Games do Mercado Livre"
   ]
  },
  {
   "cell_type": "code",
   "execution_count": null,
   "metadata": {},
   "outputs": [],
   "source": []
  },
  {
   "cell_type": "markdown",
   "metadata": {},
   "source": [
    "# Extraíndo informações específicas\n",
    "# Scrapy shell, CSS Selector, Xpath, Inspect, SelectorGadget (Chrome)"
   ]
  },
  {
   "cell_type": "markdown",
   "metadata": {},
   "source": [
    "## Scrapy shell\n",
    "Digitar no terminal da máquina\n",
    "``` bash \n",
    "scrapy shell \"http://quotes.toscrape.com/\"\n",
    "```"
   ]
  },
  {
   "cell_type": "markdown",
   "metadata": {},
   "source": [
    "## CSS Selector\n",
    "\n",
    "``` bash\n",
    "response.css('title')\n",
    "\n",
    "response.css('title').extract()\n",
    "\n",
    "response.css('title::text').extract()\n",
    "\n",
    "response.css('title::text')[0].extract() #Se a lista tiver vazia apresenta erro\n",
    "\n",
    "response.css('title::text').extract_first() #Se não é possível extrair nada do site, retorna NULL como valor (não apresenta erro)\n",
    "\n",
    "```"
   ]
  },
  {
   "cell_type": "markdown",
   "metadata": {},
   "source": [
    "## Inspect (Navegador)\n",
    "```bash\n",
    "response.css('span.text').extract()\n",
    "\n",
    "response.css('span.text::text').extract()\n",
    "\n",
    "response.css('span.text::text')[1].extract()\n",
    "```"
   ]
  },
  {
   "cell_type": "markdown",
   "metadata": {},
   "source": [
    "## Selector Gadget (Google Chrome)\n",
    "https://chrome.google.com/webstore/detail/selectorgadget/mhjhnkcfbdhnjickkkdbjoemdmbfginb?hl=pt-BR\n",
    "\n",
    "```bash\n",
    "Pegnado todos os autores com o selector gadget: .author\n",
    "\n",
    "response.css('.author::text').extract()\n",
    "```"
   ]
  },
  {
   "cell_type": "markdown",
   "metadata": {},
   "source": [
    "## XPath\n",
    "Mais poderosa que os seletores CSS porque pode-se analisar o conteúdo das tags. Ex: selecionar o link que contem o texto \"Próxima Página\"\n",
    "\n",
    "```bash\n",
    "response.xpath('//title').extract()\n",
    "\n",
    "response.xpath('//title/text()').extract()\n",
    "\n",
    "response.xpath(\"//span[@class='text']/text()\").extract()\n",
    "\n",
    "response.xpath('//*[contains(concat( \" \", @class, \" \" ), concat( \" \", \"text\", \" \" ))]/text()').extract() #usando o Selector Gadget\n",
    "\n",
    "response.xpath(\"//span[@class='text']/text()\")[2].extract()\n",
    "```"
   ]
  },
  {
   "cell_type": "markdown",
   "metadata": {},
   "source": [
    "## Inspect + CSS + Xpath\n",
    "Inspecionando o botão \"Next\"\n",
    "\n",
    "Extraindo seu conteúdo utilizando os seletores CSS e XPath:\n",
    "```bash\n",
    "response.css(\"li.next a\").xpath(\"@href\").extract()\n",
    "```"
   ]
  },
  {
   "cell_type": "code",
   "execution_count": null,
   "metadata": {},
   "outputs": [],
   "source": [
    "!scrapy shell \"http://quotes.toscrape.com/\" -c 'response.css(\"li.next a\").xpath(\"@href\").extract()'"
   ]
  },
  {
   "cell_type": "markdown",
   "metadata": {},
   "source": [
    "### Como coletar todas os links desta página?"
   ]
  },
  {
   "cell_type": "code",
   "execution_count": null,
   "metadata": {},
   "outputs": [],
   "source": [
    "!scrapy shell \"http://quotes.toscrape.com/\" -c 'response.css(\"a\").xpath(\"@href\").extract()'"
   ]
  },
  {
   "cell_type": "markdown",
   "metadata": {},
   "source": [
    "# Extraindo citações e autores\n",
    "Alterando o script first_spider"
   ]
  },
  {
   "cell_type": "code",
   "execution_count": null,
   "metadata": {},
   "outputs": [],
   "source": [
    "!cd helloscrapy && scrapy crawl spiderone"
   ]
  },
  {
   "cell_type": "markdown",
   "metadata": {},
   "source": [
    "### Como separar cada citação, author e tag??"
   ]
  },
  {
   "cell_type": "code",
   "execution_count": null,
   "metadata": {},
   "outputs": [],
   "source": [
    "!cd helloscrapy && scrapy crawl spiderone"
   ]
  },
  {
   "cell_type": "markdown",
   "metadata": {},
   "source": [
    "# Exercício 2: Coletar os nomes dos produtos na primeira página do Mercado Livre Games"
   ]
  },
  {
   "cell_type": "code",
   "execution_count": null,
   "metadata": {},
   "outputs": [],
   "source": []
  },
  {
   "cell_type": "markdown",
   "metadata": {},
   "source": [
    "# Item containers\n",
    "Extracted data > Temporary containers > Store in database"
   ]
  },
  {
   "cell_type": "markdown",
   "metadata": {},
   "source": [
    "## Alterando o arquivo items.py\n",
    "Declarando title, author e tag; Importando o arquivo items.py no Spider"
   ]
  },
  {
   "cell_type": "code",
   "execution_count": null,
   "metadata": {},
   "outputs": [],
   "source": [
    "!cd helloscrapy && scrapy crawl spiderone"
   ]
  },
  {
   "cell_type": "markdown",
   "metadata": {},
   "source": [
    "# Armazenando o resultado em arquivos JSON"
   ]
  },
  {
   "cell_type": "code",
   "execution_count": null,
   "metadata": {},
   "outputs": [],
   "source": [
    "!cd helloscrapy && scrapy crawl spiderone -o items.json"
   ]
  },
  {
   "cell_type": "markdown",
   "metadata": {},
   "source": [
    "## Armazenando o resultado em CSV e XML"
   ]
  },
  {
   "cell_type": "code",
   "execution_count": null,
   "metadata": {},
   "outputs": [],
   "source": [
    "!cd helloscrapy && scrapy crawl spiderone -o items.csv"
   ]
  },
  {
   "cell_type": "code",
   "execution_count": null,
   "metadata": {},
   "outputs": [],
   "source": [
    "!cd helloscrapy && scrapy crawl spiderone -o items.xml"
   ]
  },
  {
   "cell_type": "markdown",
   "metadata": {},
   "source": [
    "# Exercício 3: Coletar os nomes dos produtos na primeira página do Mercado Livre Games e salvar em um arquivo JSON"
   ]
  },
  {
   "cell_type": "code",
   "execution_count": null,
   "metadata": {},
   "outputs": [],
   "source": []
  },
  {
   "cell_type": "markdown",
   "metadata": {},
   "source": [
    "# Pipelines\n",
    "Scraped data > Item Containers > Pipeline > Database"
   ]
  },
  {
   "cell_type": "markdown",
   "metadata": {},
   "source": [
    "## Alterando o arquivo settings.py\n",
    "Descomentando a linha ITEM_PIPELINES..."
   ]
  },
  {
   "cell_type": "markdown",
   "metadata": {},
   "source": [
    "## Alterando o arquivo pipeline.py\n",
    "Verificando o fluxo de informação passado no pipeline"
   ]
  },
  {
   "cell_type": "code",
   "execution_count": null,
   "metadata": {},
   "outputs": [],
   "source": [
    "!cd helloscrapy && scrapy crawl spiderone"
   ]
  },
  {
   "cell_type": "markdown",
   "metadata": {},
   "source": [
    "# Criando o banco de dados relacional - Sqlite"
   ]
  },
  {
   "cell_type": "code",
   "execution_count": null,
   "metadata": {},
   "outputs": [],
   "source": [
    "!cd helloscrapy/helloscrapy/ && touch create_database.py"
   ]
  },
  {
   "cell_type": "code",
   "execution_count": null,
   "metadata": {},
   "outputs": [],
   "source": [
    "!cd helloscrapy/helloscrapy/ && python create_database.py"
   ]
  },
  {
   "cell_type": "markdown",
   "metadata": {},
   "source": [
    "### Visualizando o banco criado\n",
    "https://sqliteonline.com/"
   ]
  },
  {
   "cell_type": "markdown",
   "metadata": {},
   "source": [
    "## Inserindo os dados no banco através do arquivo pipeline.py\n",
    "Alterando o arquivo pipeline.py"
   ]
  },
  {
   "cell_type": "code",
   "execution_count": null,
   "metadata": {},
   "outputs": [],
   "source": [
    "!cd helloscrapy && scrapy crawl spiderone"
   ]
  },
  {
   "cell_type": "markdown",
   "metadata": {},
   "source": [
    "# Exercício 4: Coletar os nomes dos produtos na primeira página do Mercado Livre Games e armazenar no MongoDB"
   ]
  },
  {
   "cell_type": "code",
   "execution_count": null,
   "metadata": {},
   "outputs": [],
   "source": []
  },
  {
   "cell_type": "markdown",
   "metadata": {},
   "source": [
    "# Armazenando em banco de dados de documentos - MongoDB\n",
    "Alterando o arquivo pipeline.py"
   ]
  },
  {
   "cell_type": "code",
   "execution_count": null,
   "metadata": {},
   "outputs": [],
   "source": [
    "!cd helloscrapy && scrapy crawl spiderone"
   ]
  },
  {
   "cell_type": "markdown",
   "metadata": {},
   "source": [
    "### Consultando diretamente a coleção scrapy_col"
   ]
  },
  {
   "cell_type": "code",
   "execution_count": null,
   "metadata": {},
   "outputs": [],
   "source": [
    "from pymongo import MongoClient\n",
    "from pprintpp import pprint\n",
    "import warnings\n",
    "warnings.filterwarnings('ignore')\n",
    "\n",
    "mongoclient = MongoClient('localhost', 27017)\n",
    "db = mongoclient.thedatasocietydb\n",
    "result = db.scrapy_col.find({})\n",
    "\n",
    "for document in result:\n",
    "        pprint(document)\n",
    "        print()"
   ]
  },
  {
   "cell_type": "markdown",
   "metadata": {},
   "source": [
    "# Seguindo links\n",
    "Alterando first_spider.py"
   ]
  },
  {
   "cell_type": "code",
   "execution_count": null,
   "metadata": {},
   "outputs": [],
   "source": [
    "!cd helloscrapy && scrapy crawl spiderone"
   ]
  },
  {
   "cell_type": "markdown",
   "metadata": {},
   "source": [
    "# Exercício 5: Coletar o nome, preço e número de avaliações de todos os produtos do Mercado Livre Games e armazenar no MongoDB"
   ]
  },
  {
   "cell_type": "code",
   "execution_count": null,
   "metadata": {},
   "outputs": [],
   "source": []
  }
 ],
 "metadata": {
  "kernelspec": {
   "display_name": "Python 3",
   "language": "python",
   "name": "python3"
  },
  "language_info": {
   "codemirror_mode": {
    "name": "ipython",
    "version": 3
   },
   "file_extension": ".py",
   "mimetype": "text/x-python",
   "name": "python",
   "nbconvert_exporter": "python",
   "pygments_lexer": "ipython3",
   "version": "3.7.3"
  }
 },
 "nbformat": 4,
 "nbformat_minor": 2
}
