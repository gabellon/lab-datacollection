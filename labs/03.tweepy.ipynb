{
 "cells": [
  {
   "cell_type": "markdown",
   "metadata": {},
   "source": [
    "# 1. Criando uma App no Twitter\n",
    "\n",
    "## Acessar o endereço abaixo e criar uma App: https://apps.twitter.com/\n",
    "\n",
    "Criar login, senha e logar\n",
    "\n",
    "Criar uma nova App clicando em Create New App\n",
    "\n",
    "Definir os detalhes da aplicação: nome, descrição, website, etc\n",
    "\n",
    "**No menu \"Keys and Tokens\" gerar as chaves da App para usar na configuração do Flume e substituir no arquivo twitterAgent.conf abaixo.**"
   ]
  },
  {
   "cell_type": "markdown",
   "metadata": {},
   "source": [
    "# 2. Instalando o tweepy\n",
    "http://docs.tweepy.org/en/v3.8.0/api.html"
   ]
  },
  {
   "cell_type": "code",
   "execution_count": null,
   "metadata": {},
   "outputs": [],
   "source": [
    "!pip install tweepy"
   ]
  },
  {
   "cell_type": "code",
   "execution_count": null,
   "metadata": {},
   "outputs": [],
   "source": [
    "import tweepy\n",
    "\n",
    "consumer_token = ''\n",
    "consumer_secret = ''\n",
    "access_token = ''\n",
    "access_token_secret = ''\n",
    "\n",
    "#autenticando\n",
    "auth = tweepy.OAuthHandler(consumer_token, consumer_secret)\n",
    "auth.set_access_token(access_token, access_token_secret)\n",
    "\n",
    "#conectando na API\n",
    "api = tweepy.API(auth)\n",
    "\n",
    "#coletando informações do usuário\n",
    "user = api.get_user('lucas91batista')\n",
    "print (user)\n",
    "print('#########')\n",
    "print (\"Screen Name: {}\\nId: {}\\nDescription: {}\".format(user.screen_name, user.id, user.description))"
   ]
  },
  {
   "cell_type": "markdown",
   "metadata": {},
   "source": [
    "## Exercício 1: Exiba o seu nome, Id, Descrição, Localização e quantidade de \"seguidores\" e \"seguindo\"\n",
    "Dica: http://docs.tweepy.org/en/v3.8.0/api.html#API.friends_ids e http://docs.tweepy.org/en/v3.8.0/api.html#API.followers_ids\n",
    "<!-- followers = api.followers_ids('lucas91batista')\n",
    "print(len(followers)) -->"
   ]
  },
  {
   "cell_type": "code",
   "execution_count": null,
   "metadata": {},
   "outputs": [],
   "source": []
  },
  {
   "cell_type": "markdown",
   "metadata": {},
   "source": [
    "# Buscando tweets"
   ]
  },
  {
   "cell_type": "code",
   "execution_count": null,
   "metadata": {},
   "outputs": [],
   "source": [
    "import tweepy\n",
    "import pprint\n",
    "from datetime import date, timedelta\n",
    "\n",
    "consumer_token = ''\n",
    "consumer_secret = ''\n",
    "access_token = ''\n",
    "access_token_secret = ''\n",
    "\n",
    "\n",
    "#autenticando\n",
    "auth = tweepy.OAuthHandler(consumer_token, consumer_secret)\n",
    "auth.set_access_token(access_token, access_token_secret)\n",
    "\n",
    "#conectando na API\n",
    "api = tweepy.API(auth)\n",
    "\n",
    "last_month=date.today() - timedelta(days=30)\n",
    "\n",
    "#baixando ultimos tweets com a palavra facens\n",
    "for tweet in tweepy.Cursor(api.search,\n",
    "                   q=\"facens\",\n",
    "                   since=last_month.strftime('%Y-%m-%d'),\n",
    "                   until=date.today().strftime('%Y-%m-%d'),\n",
    "                   include_entities=True,\n",
    "                   lang=\"pt\").items():\n",
    "        #pprint.pprint(tweet._json)\n",
    "        print(tweet.text)\n",
    " "
   ]
  },
  {
   "cell_type": "markdown",
   "metadata": {},
   "source": [
    "Dica: http://docs.tweepy.org/en/v3.8.0/cursor_tutorial.html"
   ]
  },
  {
   "cell_type": "markdown",
   "metadata": {},
   "source": [
    "## Exercício 2: Liste seus likes do Facebook e busque tweets relacionados a eles."
   ]
  },
  {
   "cell_type": "code",
   "execution_count": null,
   "metadata": {},
   "outputs": [],
   "source": []
  },
  {
   "cell_type": "markdown",
   "metadata": {},
   "source": [
    "# Baixando tweets em tempo real\n",
    "q – the search query string of 500 characters maximum, including operators. Queries may additionally be limited by complexity.\n",
    "\n",
    "geocode – Returns tweets by users located within a given radius of the given latitude/longitude. The location is preferentially taking from the Geotagging API, but will fall back to their Twitter profile. The parameter value is specified by “latitide,longitude,radius”, where radius units must be specified as either “mi” (miles) or “km” (kilometers). Note that you cannot use the near operator via the API to geocode arbitrary locations; however you can use this geocode parameter to search near geocodes directly. A maximum of 1,000 distinct “sub-regions” will be considered when using the radius modifier.\n",
    "\n",
    "lang – Restricts tweets to the given language, given by an ISO 639-1 code. Language detection is best-effort.\n",
    "\n",
    "locale – Specify the language of the query you are sending (only ja is currently effective). This is intended for language-specific consumers and the default should work in the majority of cases.\n",
    "\n",
    "result_type –\n",
    "Specifies what type of search results you would prefer to receive. The current default is “mixed.” Valid values include:\n",
    "\n",
    "mixed : include both popular and real time results in the response\n",
    "\n",
    "recent : return only the most recent results in the response\n",
    "\n",
    "popular : return only the most popular results in the response\n",
    "\n",
    "count – The number of tweets to return per page, up to a maximum of 100. Defaults to 15.\n",
    "\n",
    "until – Returns tweets created before the given date. Date should be formatted as YYYY-MM-DD. Keep in mind that the search index has a 7-day limit. In other words, no tweets will be found for a date older than one week.\n",
    "\n",
    "since_id – Returns only statuses with an ID greater than (that is, more recent than) the specified ID. There are limits to the number of Tweets which can be accessed through the API. If the limit of Tweets has occured since the since_id, the since_id will be forced to the oldest ID available.\n",
    "\n",
    "max_id – Returns only statuses with an ID less than (that is, older than) or equal to the specified ID.\n",
    "\n",
    "include_entities – The entities node will not be included when set to false. Defaults to true."
   ]
  },
  {
   "cell_type": "code",
   "execution_count": null,
   "metadata": {},
   "outputs": [],
   "source": [
    "import tweepy\n",
    "import pprint\n",
    "from datetime import date, timedelta\n",
    "\n",
    "consumer_token = ''\n",
    "consumer_secret = ''\n",
    "access_token = ''\n",
    "access_token_secret = ''\n",
    "\n",
    "\n",
    "#autenticando\n",
    "auth = tweepy.OAuthHandler(consumer_token, consumer_secret)\n",
    "auth.set_access_token(access_token, access_token_secret)\n",
    "\n",
    "#conectando na API\n",
    "api = tweepy.API(auth)\n",
    "\n",
    "#override tweepy.StreamListener to add logic to on_status\n",
    "class MyStreamListener(tweepy.StreamListener):\n",
    "\n",
    "    def on_status(self, status):\n",
    "        print(status.text)\n",
    "\n",
    "#creating a stream\n",
    "myStreamListener = MyStreamListener()\n",
    "myStream = tweepy.Stream(auth = api.auth, listener=myStreamListener)\n",
    "\n",
    "#starting a stream\n",
    "myStream.filter(track=['facens', 'big data'], is_async=True)\n",
    " "
   ]
  },
  {
   "cell_type": "markdown",
   "metadata": {},
   "source": [
    "# Trend Topics\n",
    "\n",
    "Returns the top 50 trending topics for a specific WOEID, if trending information is available for it.\n",
    "\n",
    "The response is an array of “trend” objects that encode the name of the trending topic, the query parameter that can be used to search for the topic on Twitter Search, and the Twitter Search URL.\n",
    "\n",
    "This information is cached for 5 minutes. Requesting more frequently than that will not return any more data, and will count against your rate limit usage.\n",
    "\n",
    "The tweet_volume for the last 24 hours is also returned for many trends if this is available."
   ]
  },
  {
   "cell_type": "code",
   "execution_count": null,
   "metadata": {},
   "outputs": [],
   "source": [
    "import tweepy\n",
    "import pprint\n",
    "from datetime import date, timedelta\n",
    "\n",
    "consumer_token = ''\n",
    "consumer_secret = ''\n",
    "access_token = ''\n",
    "access_token_secret = ''\n",
    "\n",
    "\n",
    "#autenticando\n",
    "auth = tweepy.OAuthHandler(consumer_token, consumer_secret)\n",
    "auth.set_access_token(access_token, access_token_secret)\n",
    "\n",
    "#conectando na API\n",
    "api = tweepy.API(auth)\n",
    "\n",
    "# O ID dos locais é o WOEID do Yahoo, que pode ser descoberto neste site: http://woeid.rosselliot.co.nz/\n",
    "WORLD_WOE_ID = 1\n",
    "world_trends = api.trends_place(WORLD_WOE_ID)\n",
    "pprint.pprint(world_trends)"
   ]
  },
  {
   "cell_type": "code",
   "execution_count": null,
   "metadata": {},
   "outputs": [],
   "source": []
  }
 ],
 "metadata": {
  "kernelspec": {
   "display_name": "Python 3",
   "language": "python",
   "name": "python3"
  },
  "language_info": {
   "codemirror_mode": {
    "name": "ipython",
    "version": 3
   },
   "file_extension": ".py",
   "mimetype": "text/x-python",
   "name": "python",
   "nbconvert_exporter": "python",
   "pygments_lexer": "ipython3",
   "version": "3.7.3"
  }
 },
 "nbformat": 4,
 "nbformat_minor": 2
}
